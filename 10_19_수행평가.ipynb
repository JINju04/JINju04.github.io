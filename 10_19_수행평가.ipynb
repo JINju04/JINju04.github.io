{
  "nbformat": 4,
  "nbformat_minor": 0,
  "metadata": {
    "colab": {
      "provenance": [],
      "authorship_tag": "ABX9TyO/jozlABo7J/r3Q3rYcltQ",
      "include_colab_link": true
    },
    "kernelspec": {
      "name": "python3",
      "display_name": "Python 3"
    },
    "language_info": {
      "name": "python"
    }
  },
  "cells": [
    {
      "cell_type": "markdown",
      "metadata": {
        "id": "view-in-github",
        "colab_type": "text"
      },
      "source": [
        "<a href=\"https://colab.research.google.com/github/JINju04/JINju04.github.io/blob/master/10_19_%EC%88%98%ED%96%89%ED%8F%89%EA%B0%80.ipynb\" target=\"_parent\"><img src=\"https://colab.research.google.com/assets/colab-badge.svg\" alt=\"Open In Colab\"/></a>"
      ]
    },
    {
      "cell_type": "code",
      "execution_count": 1,
      "metadata": {
        "colab": {
          "base_uri": "https://localhost:8080/"
        },
        "id": "Q3JJNXBt_WzG",
        "outputId": "e28a07c0-8a8e-474d-ef02-262155bca13b"
      },
      "outputs": [
        {
          "output_type": "stream",
          "name": "stdout",
          "text": [
            "숫자를 입력 : 1773\n",
            "홀수입니다.\n"
          ]
        }
      ],
      "source": [
        "num = int(input(\"숫자를 입력 : \"))\n",
        "\n",
        "if (num % 2)==0 :\n",
        "  print(\"짝수입니다.\")\n",
        "\n",
        "if (num % 2)==1 :\n",
        "  print(\"홀수입니다.\")"
      ]
    },
    {
      "cell_type": "code",
      "source": [
        "num = int(input(\"숫자를 입력 ==> \"))\n",
        "\n",
        "if num > 100 :\n",
        "  if num < 1000 :\n",
        "    print(\"100보다 크고 1000보다 작군요.\")\n",
        "  else :\n",
        "    print(\"와~ 1000보다 크군요.\")\n",
        "else : \n",
        "  print(\"음~ 100보다 작군요.\")"
      ],
      "metadata": {
        "colab": {
          "base_uri": "https://localhost:8080/"
        },
        "id": "AEfJ2ghrBOoK",
        "outputId": "6359c7f0-7cb6-4e2d-b5b4-f21f2a4ab160"
      },
      "execution_count": 2,
      "outputs": [
        {
          "output_type": "stream",
          "name": "stdout",
          "text": [
            "숫자를 입력 ==> 150\n",
            "100보다 크고 1000보다 작군요.\n"
          ]
        }
      ]
    },
    {
      "cell_type": "code",
      "source": [
        "score = int(input(\"점수를 입력 ==> \"))\n",
        "\n",
        "if score >= 90 :\n",
        "  print(\"A\", end = '')\n",
        "else :\n",
        "  if score >= 80 :\n",
        "    print(\"B\", end = '')\n",
        "  else : \n",
        "    if score >= 70 :\n",
        "      print(\"C\", end = '')\n",
        "    else :\n",
        "      if score >= 60 :\n",
        "        print(\"D\", end = '')\n",
        "      else : \n",
        "        print(\"F\", end = '')\n",
        "print(\"학점입니다.\")"
      ],
      "metadata": {
        "colab": {
          "base_uri": "https://localhost:8080/"
        },
        "id": "6oqsveDOE1F3",
        "outputId": "59a150a1-fd96-45e6-e4b6-ea4bc0913f3c"
      },
      "execution_count": 5,
      "outputs": [
        {
          "output_type": "stream",
          "name": "stdout",
          "text": [
            "점수를 입력 ==> 77\n",
            "C학점입니다.\n"
          ]
        }
      ]
    },
    {
      "cell_type": "code",
      "source": [
        "import random\n",
        "\n",
        "myHand = input(\"나의 가위/바위/보 ==>\")\n",
        "comHand = random.choice([\"가위\", \"바위\", \"보\"])\n",
        "print(\"컴퓨터의 가위/바위/보 ==>\", comHand)\n",
        "\n",
        "if myHand == comHand :\n",
        "  print(\"비겼습니다. --.--\")\n",
        "\n",
        "elif (myHand == \"가위\" and comHand == \"보\") or \\\n",
        "     (myHand == \"바위\" and comHand == \"가위\") or \\\n",
        "     (myHand == \"보\" and comHand == \"바위\") :\n",
        "     print(\"이겼습니다. ^^\")\n",
        "else : \n",
        "  print(\"졌습니다. ㅠㅠ\")"
      ],
      "metadata": {
        "colab": {
          "base_uri": "https://localhost:8080/"
        },
        "id": "TI4PQL_CFCOA",
        "outputId": "47d6cff5-1e59-4186-b802-7eee698b4fba"
      },
      "execution_count": 7,
      "outputs": [
        {
          "output_type": "stream",
          "name": "stdout",
          "text": [
            "나의 가위/바위/보 ==>가위\n",
            "컴퓨터의 가위/바위/보 ==> 바위\n",
            "졌습니다. ㅠㅠ\n"
          ]
        }
      ]
    }
  ]
}